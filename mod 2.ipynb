{
  "nbformat": 4,
  "nbformat_minor": 0,
  "metadata": {
    "colab": {
      "provenance": []
    },
    "kernelspec": {
      "name": "python3",
      "display_name": "Python 3"
    },
    "language_info": {
      "name": "python"
    }
  },
  "cells": [
    {
      "cell_type": "code",
      "source": [
        "import pandas as pd\n",
        "import numpy as np\n",
        "\n",
        "df = pd.read_csv('21BCE3252 DATASET.csv')"
      ],
      "metadata": {
        "id": "4JC2lj6bIURI"
      },
      "execution_count": 28,
      "outputs": []
    },
    {
      "cell_type": "code",
      "source": [
        "# Example of discretization and binning using Age data\n",
        "age = df['Age'].tolist()\n"
      ],
      "metadata": {
        "id": "1Oq1oKlBIbCn"
      },
      "execution_count": 29,
      "outputs": []
    },
    {
      "cell_type": "code",
      "source": [
        "# Defining bins for Age intervals\n",
        "bins_age = [20, 30, 40, 50, 60, 70]\n",
        "age_category = pd.cut(age, bins_age)\n",
        "print(\"Age Categories:\\n\", age_category)\n"
      ],
      "metadata": {
        "colab": {
          "base_uri": "https://localhost:8080/"
        },
        "id": "Ps9X6QcuIdUv",
        "outputId": "26eb1ef8-60c5-4816-9bda-6469675066d6"
      },
      "execution_count": 30,
      "outputs": [
        {
          "output_type": "stream",
          "name": "stdout",
          "text": [
            "Age Categories:\n",
            " [(20, 30], (40, 50], (30, 40], (30, 40], (30, 40], ..., (20, 30], (20, 30], (60, 70], (60, 70], (20, 30]]\n",
            "Length: 5000\n",
            "Categories (5, interval[int64, right]): [(20, 30] < (30, 40] < (40, 50] < (50, 60] < (60, 70]]\n"
          ]
        }
      ]
    },
    {
      "cell_type": "code",
      "source": [
        "# Check the number of values in each bin\n",
        "print(\"\\nCount of Age Categories:\\n\", pd.Series(age_category).value_counts())\n"
      ],
      "metadata": {
        "colab": {
          "base_uri": "https://localhost:8080/"
        },
        "id": "NJ6WFy6vIfX1",
        "outputId": "31ee9419-4a3f-4ab6-87e8-1edcc836260a"
      },
      "execution_count": 31,
      "outputs": [
        {
          "output_type": "stream",
          "name": "stdout",
          "text": [
            "\n",
            "Count of Age Categories:\n",
            " (50, 60]    1323\n",
            "(40, 50]    1270\n",
            "(30, 40]    1236\n",
            "(20, 30]     624\n",
            "(60, 70]     547\n",
            "Name: count, dtype: int64\n"
          ]
        }
      ]
    },
    {
      "cell_type": "code",
      "source": [
        "# Indicating the bin names with labels\n",
        "bin_names_age = ['Young', 'Adult', 'Middle-Aged', 'Senior', 'Elder']\n",
        "labeled_age_categories = pd.cut(age, bins_age, labels=bin_names_age)\n",
        "print(\"\\nLabeled Age Categories:\\n\", labeled_age_categories)\n"
      ],
      "metadata": {
        "colab": {
          "base_uri": "https://localhost:8080/"
        },
        "id": "vtG8j60tIhgo",
        "outputId": "f328ae24-13c1-48ee-d549-efc439fd3790"
      },
      "execution_count": 32,
      "outputs": [
        {
          "output_type": "stream",
          "name": "stdout",
          "text": [
            "\n",
            "Labeled Age Categories:\n",
            " ['Young', 'Middle-Aged', 'Adult', 'Adult', 'Adult', ..., 'Young', 'Young', 'Elder', 'Elder', 'Young']\n",
            "Length: 5000\n",
            "Categories (5, object): ['Young' < 'Adult' < 'Middle-Aged' < 'Senior' < 'Elder']\n"
          ]
        }
      ]
    },
    {
      "cell_type": "code",
      "source": [
        "# Generate random data for demonstration (not part of the original dataset)\n",
        "random_data = np.random.rand(40)\n",
        "equal_bins = pd.cut(random_data, 5, precision=2)\n",
        "print(\"\\nEqual-Length Bins from Random Data:\\n\", equal_bins)\n"
      ],
      "metadata": {
        "colab": {
          "base_uri": "https://localhost:8080/"
        },
        "id": "uAjFmTUGIllH",
        "outputId": "7bc472b8-706e-4952-dd76-6b363e6e91c4"
      },
      "execution_count": 33,
      "outputs": [
        {
          "output_type": "stream",
          "name": "stdout",
          "text": [
            "\n",
            "Equal-Length Bins from Random Data:\n",
            " [(0.28, 0.46], (0.82, 1.0], (0.1, 0.28], (0.1, 0.28], (0.64, 0.82], ..., (0.1, 0.28], (0.1, 0.28], (0.1, 0.28], (0.1, 0.28], (0.1, 0.28]]\n",
            "Length: 40\n",
            "Categories (5, interval[float64, right]): [(0.1, 0.28] < (0.28, 0.46] < (0.46, 0.64] <\n",
            "                                           (0.64, 0.82] < (0.82, 1.0]]\n"
          ]
        }
      ]
    },
    {
      "cell_type": "code",
      "source": [
        "# Binning using sample quantiles\n",
        "random_numbers = np.random.rand(2000)\n",
        "quantile_bins = pd.qcut(random_numbers, 4)  # Cut into quartiles\n",
        "print(\"\\nQuantile Bins:\\n\", quantile_bins)\n",
        "print(\"\\nCount of Quantile Bins:\\n\", pd.Series(quantile_bins).value_counts())\n"
      ],
      "metadata": {
        "colab": {
          "base_uri": "https://localhost:8080/"
        },
        "id": "ypt2jdHNIpuS",
        "outputId": "906cdbaf-fbf9-4a27-a456-57af67d34fc8"
      },
      "execution_count": 34,
      "outputs": [
        {
          "output_type": "stream",
          "name": "stdout",
          "text": [
            "\n",
            "Quantile Bins:\n",
            " [(0.495, 0.741], (0.741, 1.0], (0.741, 1.0], (-0.0005790000000000001, 0.251], (-0.0005790000000000001, 0.251], ..., (-0.0005790000000000001, 0.251], (0.741, 1.0], (0.251, 0.495], (0.741, 1.0], (0.251, 0.495]]\n",
            "Length: 2000\n",
            "Categories (4, interval[float64, right]): [(-0.0005790000000000001, 0.251] < (0.251, 0.495] < (0.495, 0.741] <\n",
            "                                           (0.741, 1.0]]\n",
            "\n",
            "Count of Quantile Bins:\n",
            " (-0.0005790000000000001, 0.251]    500\n",
            "(0.251, 0.495]                     500\n",
            "(0.495, 0.741]                     500\n",
            "(0.741, 1.0]                       500\n",
            "Name: count, dtype: int64\n"
          ]
        }
      ]
    },
    {
      "cell_type": "code",
      "source": [
        "# Calculate TotalIncome based on Income and CCAvg (you can change this as needed)\n",
        "df['TotalIncome'] = df['Income'] + df['CCAvg'] * 1000  # Example calculation\n",
        "print(\"\\nAccount and Total Income:\\n\", df[['ID', 'TotalIncome']])\n"
      ],
      "metadata": {
        "colab": {
          "base_uri": "https://localhost:8080/"
        },
        "id": "lnbe5AV1IrtX",
        "outputId": "696dcc57-d416-4566-97c6-7742f71716f9"
      },
      "execution_count": 35,
      "outputs": [
        {
          "output_type": "stream",
          "name": "stdout",
          "text": [
            "\n",
            "Account and Total Income:\n",
            "         ID  TotalIncome\n",
            "0        1       1649.0\n",
            "1        2       1534.0\n",
            "2        3       1011.0\n",
            "3        4       2800.0\n",
            "4        5       1045.0\n",
            "...    ...          ...\n",
            "4995  4996       1940.0\n",
            "4996  4997        415.0\n",
            "4997  4998        324.0\n",
            "4998  4999        549.0\n",
            "4999  5000        883.0\n",
            "\n",
            "[5000 rows x 2 columns]\n"
          ]
        }
      ]
    },
    {
      "cell_type": "code",
      "source": [
        "# Find transactions that exceeded a specific threshold for TotalIncome\n",
        "high_transactions = df[df['TotalIncome'] > 100000]  # Threshold can be changed\n",
        "print(\"\\nHigh Transactions:\\n\", high_transactions)\n"
      ],
      "metadata": {
        "colab": {
          "base_uri": "https://localhost:8080/"
        },
        "id": "l3DPi9ooItLe",
        "outputId": "26c2b63d-3a06-4d7b-ce94-1852abf84492"
      },
      "execution_count": 36,
      "outputs": [
        {
          "output_type": "stream",
          "name": "stdout",
          "text": [
            "\n",
            "High Transactions:\n",
            " Empty DataFrame\n",
            "Columns: [ID, Age, Experience, Income, ZIP Code, Family, CCAvg, Education, Mortgage, Personal Loan, Securities Account, CD Account, Online, CreditCard, TotalIncome]\n",
            "Index: []\n"
          ]
        }
      ]
    },
    {
      "cell_type": "code",
      "source": [
        "\n",
        "# Display transactions where TotalIncome exceeds a higher threshold\n",
        "extreme_transactions = df[df['TotalIncome'] > 150000]  # Threshold can be changed\n",
        "print(\"\\nExtreme Transactions:\\n\", extreme_transactions)\n"
      ],
      "metadata": {
        "colab": {
          "base_uri": "https://localhost:8080/"
        },
        "id": "ghwwnzXmIuyu",
        "outputId": "489cfa5a-c608-4874-c19d-052e39a904fc"
      },
      "execution_count": 37,
      "outputs": [
        {
          "output_type": "stream",
          "name": "stdout",
          "text": [
            "\n",
            "Extreme Transactions:\n",
            " Empty DataFrame\n",
            "Columns: [ID, Age, Experience, Income, ZIP Code, Family, CCAvg, Education, Mortgage, Personal Loan, Securities Account, CD Account, Online, CreditCard, TotalIncome]\n",
            "Index: []\n"
          ]
        }
      ]
    },
    {
      "cell_type": "code",
      "source": [
        "# Dataframes for concatenation\n",
        "dataFrame1 = pd.DataFrame({\n",
        "    'ID': [1, 2, 3, 4, 5],\n",
        "    'Score': [89, 39, 50, 97, 22]\n",
        "})\n",
        "\n",
        "dataFrame2 = pd.DataFrame({\n",
        "    'ID': [6, 7, 8, 9, 10],\n",
        "    'Score': [98, 93, 44, 77, 69]\n",
        "})\n",
        "\n",
        "# Concatenation of dataframes (ignore index)\n",
        "dataframe_concat = pd.concat([dataFrame1, dataFrame2], ignore_index=True)\n",
        "print(\"\\nConcatenated DataFrame:\\n\", dataframe_concat)\n"
      ],
      "metadata": {
        "colab": {
          "base_uri": "https://localhost:8080/"
        },
        "id": "WlJJ3HCkIx8i",
        "outputId": "59c3c29c-db7f-426c-842c-4407e5d1dd7b"
      },
      "execution_count": 38,
      "outputs": [
        {
          "output_type": "stream",
          "name": "stdout",
          "text": [
            "\n",
            "Concatenated DataFrame:\n",
            "    ID  Score\n",
            "0   1     89\n",
            "1   2     39\n",
            "2   3     50\n",
            "3   4     97\n",
            "4   5     22\n",
            "5   6     98\n",
            "6   7     93\n",
            "7   8     44\n",
            "8   9     77\n",
            "9  10     69\n"
          ]
        }
      ]
    },
    {
      "cell_type": "code",
      "source": [
        "\n",
        "# Merging Dataframes for different scores\n",
        "df1SE = pd.DataFrame({\n",
        "    'ID': [1, 2, 3],\n",
        "    'ScoreSE': [22, 66, 31]\n",
        "})\n",
        "\n",
        "df2SE = pd.DataFrame({\n",
        "    'ID': [4, 5, 6],\n",
        "    'ScoreSE': [98, 93, 44]\n",
        "})\n"
      ],
      "metadata": {
        "id": "SooD9ZULI0dL"
      },
      "execution_count": 39,
      "outputs": []
    },
    {
      "cell_type": "code",
      "source": [
        "# Concatenate Software Engineering scores\n",
        "dfSE = pd.concat([df1SE, df2SE], ignore_index=True)\n",
        "print(\"\\nConcatenated Software Engineering DataFrame:\\n\", dfSE)\n"
      ],
      "metadata": {
        "colab": {
          "base_uri": "https://localhost:8080/"
        },
        "id": "PhZwrmk8I2Ir",
        "outputId": "f1c6c7a3-d909-4da8-fd3d-4effd01f94f1"
      },
      "execution_count": 40,
      "outputs": [
        {
          "output_type": "stream",
          "name": "stdout",
          "text": [
            "\n",
            "Concatenated Software Engineering DataFrame:\n",
            "    ID  ScoreSE\n",
            "0   1       22\n",
            "1   2       66\n",
            "2   3       31\n",
            "3   4       98\n",
            "4   5       93\n",
            "5   6       44\n"
          ]
        }
      ]
    },
    {
      "cell_type": "code",
      "source": [
        "# Merge inner join\n",
        "df_inner = dfSE.merge(dataframe_concat, on='ID', how='inner')\n",
        "print(\"\\nInner Merge:\\n\", df_inner)\n"
      ],
      "metadata": {
        "colab": {
          "base_uri": "https://localhost:8080/"
        },
        "id": "JxddUzvfI4NV",
        "outputId": "14cbd4d8-00ca-4c81-a243-ac23bd27eef1"
      },
      "execution_count": 41,
      "outputs": [
        {
          "output_type": "stream",
          "name": "stdout",
          "text": [
            "\n",
            "Inner Merge:\n",
            "    ID  ScoreSE  Score\n",
            "0   1       22     89\n",
            "1   2       66     39\n",
            "2   3       31     50\n",
            "3   4       98     97\n",
            "4   5       93     22\n",
            "5   6       44     98\n"
          ]
        }
      ]
    },
    {
      "cell_type": "code",
      "source": [
        "# Merge left join\n",
        "df_left = dfSE.merge(dataframe_concat, on='ID', how='left')\n",
        "print(\"\\nLeft Merge:\\n\", df_left)\n"
      ],
      "metadata": {
        "colab": {
          "base_uri": "https://localhost:8080/"
        },
        "id": "Pr8YUtJzI59i",
        "outputId": "56db8d08-fd2c-444f-cd38-36fcface9d45"
      },
      "execution_count": 42,
      "outputs": [
        {
          "output_type": "stream",
          "name": "stdout",
          "text": [
            "\n",
            "Left Merge:\n",
            "    ID  ScoreSE  Score\n",
            "0   1       22     89\n",
            "1   2       66     39\n",
            "2   3       31     50\n",
            "3   4       98     97\n",
            "4   5       93     22\n",
            "5   6       44     98\n"
          ]
        }
      ]
    },
    {
      "cell_type": "code",
      "source": [
        "# Merge right join\n",
        "df_right = dfSE.merge(dataframe_concat, on='ID', how='right')\n",
        "print(\"\\nRight Merge:\\n\", df_right)\n"
      ],
      "metadata": {
        "colab": {
          "base_uri": "https://localhost:8080/"
        },
        "id": "jJNdUImcI9Ft",
        "outputId": "6faf9dc2-da4a-4c75-e3b4-72882d522ee1"
      },
      "execution_count": 43,
      "outputs": [
        {
          "output_type": "stream",
          "name": "stdout",
          "text": [
            "\n",
            "Right Merge:\n",
            "    ID  ScoreSE  Score\n",
            "0   1     22.0     89\n",
            "1   2     66.0     39\n",
            "2   3     31.0     50\n",
            "3   4     98.0     97\n",
            "4   5     93.0     22\n",
            "5   6     44.0     98\n",
            "6   7      NaN     93\n",
            "7   8      NaN     44\n",
            "8   9      NaN     77\n",
            "9  10      NaN     69\n"
          ]
        }
      ]
    },
    {
      "cell_type": "code",
      "source": [
        "# Reshaping with Hierarchical Indexing (Example)\n",
        "data = np.arange(15).reshape((3, 5))\n",
        "indexers = ['Rainfall', 'Humidity', 'Wind']\n",
        "dframe1 = pd.DataFrame(data, index=indexers, columns=['City1', 'City2', 'City3', 'City4', 'City5'])\n"
      ],
      "metadata": {
        "id": "qinKs9j3I_rq"
      },
      "execution_count": 44,
      "outputs": []
    },
    {
      "cell_type": "code",
      "source": [
        "# Stack and unstack data\n",
        "stacked = dframe1.stack()\n",
        "unstacked = stacked.unstack()\n",
        "print(\"\\nStacked DataFrame:\\n\", stacked)\n",
        "print(\"\\nUnstacked DataFrame:\\n\", unstacked)\n"
      ],
      "metadata": {
        "colab": {
          "base_uri": "https://localhost:8080/"
        },
        "id": "YIyuiIYwJBoi",
        "outputId": "3166bd85-45d0-4f47-98ed-74a932d89f3d"
      },
      "execution_count": 45,
      "outputs": [
        {
          "output_type": "stream",
          "name": "stdout",
          "text": [
            "\n",
            "Stacked DataFrame:\n",
            " Rainfall  City1     0\n",
            "          City2     1\n",
            "          City3     2\n",
            "          City4     3\n",
            "          City5     4\n",
            "Humidity  City1     5\n",
            "          City2     6\n",
            "          City3     7\n",
            "          City4     8\n",
            "          City5     9\n",
            "Wind      City1    10\n",
            "          City2    11\n",
            "          City3    12\n",
            "          City4    13\n",
            "          City5    14\n",
            "dtype: int64\n",
            "\n",
            "Unstacked DataFrame:\n",
            "           City1  City2  City3  City4  City5\n",
            "Rainfall      0      1      2      3      4\n",
            "Humidity      5      6      7      8      9\n",
            "Wind         10     11     12     13     14\n"
          ]
        }
      ]
    },
    {
      "cell_type": "code",
      "source": [
        "# Data deduplication\n",
        "frame3 = pd.DataFrame({'column 1': ['Looping'] * 3 + ['Functions'] * 4, 'column 2': [10, 10, 22, 23, 23, 24, 24]})\n",
        "deduplicated = frame3.drop_duplicates()\n",
        "print(\"\\nDeduplicated DataFrame:\\n\", deduplicated)\n"
      ],
      "metadata": {
        "colab": {
          "base_uri": "https://localhost:8080/"
        },
        "id": "JZVs_X2DJEGW",
        "outputId": "c4321ef4-cec2-434e-dc85-d1dea5280ae3"
      },
      "execution_count": 46,
      "outputs": [
        {
          "output_type": "stream",
          "name": "stdout",
          "text": [
            "\n",
            "Deduplicated DataFrame:\n",
            "     column 1  column 2\n",
            "0    Looping        10\n",
            "2    Looping        22\n",
            "3  Functions        23\n",
            "5  Functions        24\n"
          ]
        }
      ]
    },
    {
      "cell_type": "code",
      "source": [
        "# Replacing values in dataframe\n",
        "replaceFrame = pd.DataFrame({'column 1': [200., 3000., -786., 3000., 234., 444., -786., 332., 3332.], 'column 2': range(9)})\n",
        "replaceFrame_cleaned = replaceFrame.replace(to_replace=[-786, 0], value=[np.nan, 2])\n",
        "print(\"\\nCleaned DataFrame:\\n\", replaceFrame_cleaned)\n"
      ],
      "metadata": {
        "colab": {
          "base_uri": "https://localhost:8080/"
        },
        "id": "KYoYMemuJF5J",
        "outputId": "70fd46c3-78fb-4fd8-906c-9de43ae11532"
      },
      "execution_count": 47,
      "outputs": [
        {
          "output_type": "stream",
          "name": "stdout",
          "text": [
            "\n",
            "Cleaned DataFrame:\n",
            "    column 1  column 2\n",
            "0     200.0         2\n",
            "1    3000.0         1\n",
            "2       NaN         2\n",
            "3    3000.0         3\n",
            "4     234.0         4\n",
            "5     444.0         5\n",
            "6       NaN         6\n",
            "7     332.0         7\n",
            "8    3332.0         8\n"
          ]
        }
      ]
    },
    {
      "cell_type": "code",
      "source": [
        "# Handling missing data\n",
        "data = np.arange(15, 30).reshape(5, 3)\n",
        "dfx = pd.DataFrame(data, index=['apple', 'banana', 'kiwi', 'grapes', 'mango'], columns=['store1', 'store2', 'store3'])\n"
      ],
      "metadata": {
        "id": "E2vmLqg3JHrq"
      },
      "execution_count": 48,
      "outputs": []
    },
    {
      "cell_type": "code",
      "source": [
        "# Add missing values\n",
        "dfx['store4'] = np.nan\n",
        "dfx.loc['watermelon'] = np.arange(15, 19)\n",
        "dfx.loc['oranges'] = np.nan\n",
        "dfx['store5'] = np.nan\n",
        "dfx.loc['apple', 'store4'] = 20.\n"
      ],
      "metadata": {
        "id": "GkYl9aHHJJsE"
      },
      "execution_count": 49,
      "outputs": []
    },
    {
      "cell_type": "code",
      "source": [
        "# Checking for missing values\n",
        "missing_values = dfx.isnull()\n",
        "print(\"\\nMissing Values:\\n\", missing_values)\n"
      ],
      "metadata": {
        "colab": {
          "base_uri": "https://localhost:8080/"
        },
        "id": "LrpB0NS1JLuC",
        "outputId": "49a03a8e-39c6-411a-9ba0-d8ad2337891c"
      },
      "execution_count": 50,
      "outputs": [
        {
          "output_type": "stream",
          "name": "stdout",
          "text": [
            "\n",
            "Missing Values:\n",
            "             store1  store2  store3  store4  store5\n",
            "apple        False   False   False   False    True\n",
            "banana       False   False   False    True    True\n",
            "kiwi         False   False   False    True    True\n",
            "grapes       False   False   False    True    True\n",
            "mango        False   False   False    True    True\n",
            "watermelon   False   False   False   False    True\n",
            "oranges       True    True    True    True    True\n"
          ]
        }
      ]
    },
    {
      "cell_type": "code",
      "source": [
        "# Count NaN values in each store\n",
        "null_counts = dfx.isnull().sum()\n",
        "print(\"\\nCount of NaN Values in Each Store:\\n\", null_counts)\n"
      ],
      "metadata": {
        "colab": {
          "base_uri": "https://localhost:8080/"
        },
        "id": "Xj7mbvbPJO3T",
        "outputId": "91fc4157-dd66-436b-db0c-54ea3b38903f"
      },
      "execution_count": 51,
      "outputs": [
        {
          "output_type": "stream",
          "name": "stdout",
          "text": [
            "\n",
            "Count of NaN Values in Each Store:\n",
            " store1    1\n",
            "store2    1\n",
            "store3    1\n",
            "store4    5\n",
            "store5    7\n",
            "dtype: int64\n"
          ]
        }
      ]
    },
    {
      "cell_type": "code",
      "source": [
        "# Total number of missing values\n",
        "total_nulls = dfx.isnull().sum().sum()\n",
        "print(\"\\nTotal Number of Missing Values:\\n\", total_nulls)"
      ],
      "metadata": {
        "colab": {
          "base_uri": "https://localhost:8080/"
        },
        "id": "uD-zEQsQJSt5",
        "outputId": "cb275e80-8ab2-4cba-dbaf-691fa4949ce5"
      },
      "execution_count": 52,
      "outputs": [
        {
          "output_type": "stream",
          "name": "stdout",
          "text": [
            "\n",
            "Total Number of Missing Values:\n",
            " 15\n"
          ]
        }
      ]
    },
    {
      "cell_type": "code",
      "source": [
        "# Drop missing values\n",
        "dfx_cleaned_by_rows = dfx.dropna()\n",
        "print(\"\\nDataFrame Cleaned by Rows:\\n\", dfx_cleaned_by_rows)"
      ],
      "metadata": {
        "colab": {
          "base_uri": "https://localhost:8080/"
        },
        "id": "0n6Q8b1pJUnJ",
        "outputId": "df24de61-650f-4de3-8d96-7f58cf2f6ead"
      },
      "execution_count": 53,
      "outputs": [
        {
          "output_type": "stream",
          "name": "stdout",
          "text": [
            "\n",
            "DataFrame Cleaned by Rows:\n",
            " Empty DataFrame\n",
            "Columns: [store1, store2, store3, store4, store5]\n",
            "Index: []\n"
          ]
        }
      ]
    },
    {
      "cell_type": "code",
      "source": [
        "dfx_cleaned_by_columns = dfx.dropna(how='all', axis=1)\n",
        "print(\"\\nDataFrame Cleaned by Columns:\\n\", dfx_cleaned_by_columns)"
      ],
      "metadata": {
        "colab": {
          "base_uri": "https://localhost:8080/"
        },
        "id": "GJx2bsTeJWUL",
        "outputId": "4250b31e-b760-45f0-ae4b-34830a49daef"
      },
      "execution_count": 54,
      "outputs": [
        {
          "output_type": "stream",
          "name": "stdout",
          "text": [
            "\n",
            "DataFrame Cleaned by Columns:\n",
            "             store1  store2  store3  store4\n",
            "apple         15.0    16.0    17.0    20.0\n",
            "banana        18.0    19.0    20.0     NaN\n",
            "kiwi          21.0    22.0    23.0     NaN\n",
            "grapes        24.0    25.0    26.0     NaN\n",
            "mango         27.0    28.0    29.0     NaN\n",
            "watermelon    15.0    16.0    17.0    18.0\n",
            "oranges        NaN     NaN     NaN     NaN\n"
          ]
        }
      ]
    },
    {
      "cell_type": "code",
      "source": [
        "# Filling missing values\n",
        "filled_dfx = dfx.fillna(0)\n",
        "dfx_forward_filled = dfx.store4.fillna(method='ffill')\n",
        "dfx_backward_filled = dfx.store4.fillna(method='bfill')\n",
        "print(\"\\nFilled DataFrame:\\n\", filled_dfx)\n"
      ],
      "metadata": {
        "colab": {
          "base_uri": "https://localhost:8080/"
        },
        "id": "zUdfXN79JYeD",
        "outputId": "7cde6615-20ce-4fec-b628-0ad761aee5f7"
      },
      "execution_count": 55,
      "outputs": [
        {
          "output_type": "stream",
          "name": "stdout",
          "text": [
            "\n",
            "Filled DataFrame:\n",
            "             store1  store2  store3  store4  store5\n",
            "apple         15.0    16.0    17.0    20.0     0.0\n",
            "banana        18.0    19.0    20.0     0.0     0.0\n",
            "kiwi          21.0    22.0    23.0     0.0     0.0\n",
            "grapes        24.0    25.0    26.0     0.0     0.0\n",
            "mango         27.0    28.0    29.0     0.0     0.0\n",
            "watermelon    15.0    16.0    17.0    18.0     0.0\n",
            "oranges        0.0     0.0     0.0     0.0     0.0\n"
          ]
        },
        {
          "output_type": "stream",
          "name": "stderr",
          "text": [
            "<ipython-input-55-104dea1f8dae>:3: FutureWarning: Series.fillna with 'method' is deprecated and will raise in a future version. Use obj.ffill() or obj.bfill() instead.\n",
            "  dfx_forward_filled = dfx.store4.fillna(method='ffill')\n",
            "<ipython-input-55-104dea1f8dae>:4: FutureWarning: Series.fillna with 'method' is deprecated and will raise in a future version. Use obj.ffill() or obj.bfill() instead.\n",
            "  dfx_backward_filled = dfx.store4.fillna(method='bfill')\n"
          ]
        }
      ]
    }
  ]
}